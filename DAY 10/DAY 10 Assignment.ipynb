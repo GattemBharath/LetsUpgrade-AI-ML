{
 "cells": [
  {
   "cell_type": "markdown",
   "metadata": {},
   "source": [
    "## __HYPOTHESIS__"
   ]
  },
  {
   "cell_type": "markdown",
   "metadata": {},
   "source": [
    "__HYPOTHESIS 1.__  \n",
    "\n",
    "  Does employee age effect the attrition of employee? "
   ]
  },
  {
   "cell_type": "markdown",
   "metadata": {},
   "source": [
    "__HYPOTHESIS 2.__  \n",
    "\n",
    " Are working hours more for employees?"
   ]
  },
  {
   "cell_type": "markdown",
   "metadata": {},
   "source": [
    "__HYPOTHESIS 3.__  \n",
    "\n",
    " Are employees getting their job satisfaction?  "
   ]
  },
  {
   "cell_type": "markdown",
   "metadata": {},
   "source": [
    "__HYPOTHESIS 4.__  \n",
    "\n",
    "Is work life balance maintained in the company? "
   ]
  },
  {
   "cell_type": "markdown",
   "metadata": {},
   "source": [
    "__HYPOTHESIS 5.__  \n",
    "\n",
    "Does comapany environment effects the attrition of employee? "
   ]
  },
  {
   "cell_type": "markdown",
   "metadata": {},
   "source": [
    "__HYPOTHESIS 6.__  \n",
    "\n",
    "Low salary has an impact on attrition."
   ]
  },
  {
   "cell_type": "markdown",
   "metadata": {},
   "source": [
    "__HYPOTHESIS 7.__  \n",
    "\n",
    "Education effects the attrition of employee."
   ]
  },
  {
   "cell_type": "markdown",
   "metadata": {},
   "source": [
    "__HYPOTHESIS 8.__  \n",
    "\n",
    "Less work involvment effects the attrition of employee."
   ]
  },
  {
   "cell_type": "markdown",
   "metadata": {},
   "source": [
    "__HYPOTHESIS 9.__  \n",
    "\n",
    "Business travel increases the attrition of employee."
   ]
  },
  {
   "cell_type": "markdown",
   "metadata": {},
   "source": [
    "__HYPOTHESIS 10.__  \n",
    "\n",
    "Working for many number of years in same company increases the attrition of employee."
   ]
  }
 ],
 "metadata": {
  "kernelspec": {
   "display_name": "Python 3",
   "language": "python",
   "name": "python3"
  },
  "language_info": {
   "codemirror_mode": {
    "name": "ipython",
    "version": 3
   },
   "file_extension": ".py",
   "mimetype": "text/x-python",
   "name": "python",
   "nbconvert_exporter": "python",
   "pygments_lexer": "ipython3",
   "version": "3.7.6"
  }
 },
 "nbformat": 4,
 "nbformat_minor": 4
}
