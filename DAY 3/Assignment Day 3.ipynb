{
 "cells": [
  {
   "cell_type": "markdown",
   "metadata": {},
   "source": [
    "**Question 1 :\n",
    "Write a program to subtract two complex numbers in Python.**"
   ]
  },
  {
   "cell_type": "code",
   "execution_count": 4,
   "metadata": {},
   "outputs": [
    {
     "name": "stdout",
     "output_type": "stream",
     "text": [
      "Subtraction of two complex numbers is : (-2-1j)\n"
     ]
    }
   ],
   "source": [
    "a = 3+2j\n",
    "b = 5+3j\n",
    "c = a - b\n",
    "print('Subtraction of two complex numbers is :',c)"
   ]
  },
  {
   "cell_type": "markdown",
   "metadata": {},
   "source": [
    "**Question 2 :\n",
    "Write a program to find the fourth root of a number.**"
   ]
  },
  {
   "cell_type": "code",
   "execution_count": 7,
   "metadata": {},
   "outputs": [
    {
     "name": "stdout",
     "output_type": "stream",
     "text": [
      "81\n",
      "The fourth root of 81 is  3\n"
     ]
    }
   ],
   "source": [
    "a = int(input())\n",
    "fourth_root = int(a**(1/4))\n",
    "print('The fourth root of',a,'is ',fourth_root)"
   ]
  },
  {
   "cell_type": "markdown",
   "metadata": {},
   "source": [
    "**Question 3:\n",
    "Write a program to swap two numbers in Python with the help of a temporary variable.**"
   ]
  },
  {
   "cell_type": "code",
   "execution_count": 13,
   "metadata": {},
   "outputs": [
    {
     "name": "stdout",
     "output_type": "stream",
     "text": [
      "First number is: 10 \n",
      "Second number is: 20\n",
      "-----After Swapping with the help of a temporary variable-----\n",
      "First number is: 20 \n",
      "Second number is: 10\n"
     ]
    }
   ],
   "source": [
    "first_num = 10\n",
    "sec_num = 20\n",
    "print('First number is:',first_num,'\\nSecond number is:',sec_num)\n",
    "c = first_num\n",
    "first_num = sec_num\n",
    "sec_num = c\n",
    "print('-----After Swapping with the help of a temporary variable-----')\n",
    "print('First number is:',first_num,'\\nSecond number is:',sec_num)"
   ]
  },
  {
   "cell_type": "markdown",
   "metadata": {},
   "source": [
    "**Question 4:\n",
    "Write a program to swap two numbers in Python without using a temporary variable.**"
   ]
  },
  {
   "cell_type": "code",
   "execution_count": 16,
   "metadata": {},
   "outputs": [
    {
     "name": "stdout",
     "output_type": "stream",
     "text": [
      "First number is: 10 \n",
      "Second number is: 20\n",
      "-----After Swapping without using a temporary variable-----\n",
      "First number is: 20 \n",
      "Second number is: 10\n"
     ]
    }
   ],
   "source": [
    "first_num = 10\n",
    "sec_num = 20\n",
    "print('First number is:',first_num,'\\nSecond number is:',sec_num)\n",
    "first_num, sec_num = sec_num, first_num\n",
    "print('-----After Swapping without using a temporary variable-----')\n",
    "print('First number is:',first_num,'\\nSecond number is:',sec_num)"
   ]
  },
  {
   "cell_type": "markdown",
   "metadata": {},
   "source": [
    "**Question 5:\n",
    "Write a program to convert fahrenheit to kelvin and celsius both.**"
   ]
  },
  {
   "cell_type": "code",
   "execution_count": 23,
   "metadata": {},
   "outputs": [
    {
     "name": "stdout",
     "output_type": "stream",
     "text": [
      "Fahrenheit to Kelvin:\n",
      "Fahrenheit:  39 \n",
      "Kelvin:  277.0388888888889\n",
      "----------------\n",
      "Fahrenheit to Celsius:\n",
      "Fahrenheit:  39 \n",
      "Kelvin:  3.8888888888888893\n"
     ]
    }
   ],
   "source": [
    "fahrenheit = 39\n",
    "print('Fahrenheit to Kelvin:')\n",
    "kelvin = (fahrenheit - 32) * (5/9) + 273.15\n",
    "print('Fahrenheit: ',fahrenheit, '\\nKelvin: ',kelvin)\n",
    "print('----------------')\n",
    "print('Fahrenheit to Celsius:')\n",
    "kelvin = (fahrenheit -  32) * (5/9)\n",
    "print('Fahrenheit: ',fahrenheit, '\\nKelvin: ',kelvin)"
   ]
  },
  {
   "cell_type": "markdown",
   "metadata": {},
   "source": [
    "**Question 6:\n",
    "Write a program to demonstrate all the available data types in Python. Hint: Use type() function.**"
   ]
  },
  {
   "cell_type": "code",
   "execution_count": 42,
   "metadata": {},
   "outputs": [
    {
     "name": "stdout",
     "output_type": "stream",
     "text": [
      " Type of  10 is: <class 'int'> \n",
      " Type of  Jupyter Notebook is: <class 'str'> \n",
      " Type of  True is: <class 'bool'> \n",
      " Type of  40.23 is: <class 'float'> \n",
      " Type of  (3+2j) is: <class 'complex'>\n"
     ]
    }
   ],
   "source": [
    "a = 10\n",
    "str1 = 'Jupyter Notebook'\n",
    "boolean = True\n",
    "b = 40.23\n",
    "comp = 3+2j\n",
    "print(' Type of ',a,'is:', type(a),'\\n','Type of ',str1,'is:',type(str1),'\\n','Type of ',boolean,'is:',type(boolean),'\\n',\n",
    "      'Type of ',b,'is:',type(b),'\\n','Type of ',comp,'is:',type(comp))"
   ]
  },
  {
   "cell_type": "markdown",
   "metadata": {},
   "source": [
    "**Question 7:\n",
    "Create a Markdown cell in jupyter and list the steps discussed in the session by Dr. Darshan\n",
    "Ingle sir to create Github profile and upload Githubs Assignment link.**"
   ]
  },
  {
   "cell_type": "markdown",
   "metadata": {},
   "source": [
    "**Steps to create Github profile and upload Githubs Assignment link.**\n",
    "1. Go to https://github.com/join in a web browser.\n",
    "2. Enter your personal details. In addition to creating a username and entering an email address, you'll also have to create a password. Your password must be at least 15 characters in length or at least 8 characters with at least one number and lowercase letter.\n",
    "3. Then sign up.\n",
    "4. Create a Github public repo and name it LetsUpgrade AI/ML.\n",
    "5. Keep the repo public so that everyone can view it.\n",
    "6. Upload the files/solution in the repo in day wise manner.\n",
    "7. Copy the URL of the Folder of that day and paste in the Assignment Submission Form."
   ]
  },
  {
   "cell_type": "code",
   "execution_count": null,
   "metadata": {},
   "outputs": [],
   "source": []
  }
 ],
 "metadata": {
  "kernelspec": {
   "display_name": "Python 3",
   "language": "python",
   "name": "python3"
  },
  "language_info": {
   "codemirror_mode": {
    "name": "ipython",
    "version": 3
   },
   "file_extension": ".py",
   "mimetype": "text/x-python",
   "name": "python",
   "nbconvert_exporter": "python",
   "pygments_lexer": "ipython3",
   "version": "3.7.6"
  }
 },
 "nbformat": 4,
 "nbformat_minor": 4
}
