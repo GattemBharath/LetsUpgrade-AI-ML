{
 "cells": [
  {
   "cell_type": "markdown",
   "metadata": {},
   "source": [
    "**Question 1 :\n",
    "Write a Python program to find the first 20 non-even prime natural numbers.**"
   ]
  },
  {
   "cell_type": "code",
   "execution_count": 12,
   "metadata": {},
   "outputs": [
    {
     "name": "stdout",
     "output_type": "stream",
     "text": [
      "First 20 non-even prime natural numbers are:\n",
      "3 5 7 11 13 17 19 23 29 31 37 41 43 47 53 59 61 67 71 73 "
     ]
    }
   ],
   "source": [
    "import math\n",
    "def isPrime(n):\n",
    "    if n==2 or n==3 :\n",
    "        return True\n",
    "    else:\n",
    "        for i in range(2,int(math.sqrt(n))+1):\n",
    "            if n%i==0:\n",
    "                return False\n",
    "        return True\n",
    "count = 0\n",
    "print('First 20 non-even prime natural numbers are:')\n",
    "for i in range(2,100):\n",
    "        if i%2!=0 and isPrime(i):\n",
    "            print(i,end=' ')\n",
    "            count+=1\n",
    "            if count==20:\n",
    "                break      "
   ]
  },
  {
   "cell_type": "markdown",
   "metadata": {},
   "source": [
    "**Question 2 :\n",
    "Write a Python program to implement 15 functions of string.**"
   ]
  },
  {
   "cell_type": "code",
   "execution_count": 71,
   "metadata": {},
   "outputs": [
    {
     "name": "stdout",
     "output_type": "stream",
     "text": [
      "1. String Capitalize:  Python assignment\n",
      "2. String lower:       python assignment\n",
      "3. String uppere:      PYTHON ASSIGNMENT\n",
      "4. String title:       Python Assignment\n",
      "5. String split:       ['Python', 'Assignment']\n",
      "6. String startswith:  True\n",
      "7. String replace:     ML Assignment\n",
      "8. String swapcase:   pYTHON aSSIGNMENT\n",
      "9. String join:       P,y,t,h,o,n, ,A,s,s,i,g,n,m,e,n,t\n",
      "10. String endswith:  True\n",
      "11. String partition:  ('Python', ' ', 'Assignment')\n",
      "12. String split:      ['Python', 'Assignment']\n",
      "13. String zfill:      00000000Python Assignment\n",
      "14. String find:       1\n",
      "15. String isdigit:    False\n"
     ]
    }
   ],
   "source": [
    "str1 = 'Python Assignment'\n",
    "print('1. String Capitalize: ', str1.capitalize())\n",
    "print('2. String lower:      ', str1.lower())\n",
    "print('3. String uppere:     ', str1.upper())\n",
    "print('4. String title:      ', str1.title())\n",
    "print('5. String split:      ', str1.split())\n",
    "print('6. String startswith: ', str1.startswith('Py'))\n",
    "print('7. String replace:    ', str1.replace('Python','ML'))\n",
    "print('8. String swapcase:  ', str1.swapcase())\n",
    "print('9. String join:      ', ','.join(str1))\n",
    "print('10. String endswith: ', str1.endswith('ment'))\n",
    "print('11. String partition: ', str1.partition(' '))\n",
    "print('12. String split:     ', str1.split(' '))\n",
    "print('13. String zfill:     ', str1.zfill(25))\n",
    "print('14. String find:      ', str1.find('yt'))\n",
    "print('15. String isdigit:   ', str1.isdigit())"
   ]
  },
  {
   "cell_type": "markdown",
   "metadata": {},
   "source": [
    "**Question 3:\n",
    "Write a Python program to check if the given string is a Palindrome or Anagram or None of them.\n",
    "Display the message accordingly to the user.**"
   ]
  },
  {
   "cell_type": "code",
   "execution_count": 74,
   "metadata": {},
   "outputs": [
    {
     "name": "stdout",
     "output_type": "stream",
     "text": [
      "Enter first string: madam\n",
      "Enter second string: python\n",
      "Given String  madam  is a palindrome\n",
      "Both strings are not anagrams\n"
     ]
    }
   ],
   "source": [
    "def isPalindrome(str1):\n",
    "    if str1 == str1[::-1]:\n",
    "        return True\n",
    "    return False\n",
    "        \n",
    "def isAnagram(str1,str2):\n",
    "    if sorted(str1) == sorted(str2):\n",
    "        return True\n",
    "    return False\n",
    "        \n",
    "str1  = input('Enter first string: ')\n",
    "str2  = input('Enter second string: ')\n",
    "if isPalindrome(str1):\n",
    "    print('Given String ',str1,' is a palindrome')\n",
    "if isPalindrome(str2):\n",
    "        print('Given String ',str2,' is a palindrome')\n",
    "if isAnagram(str1,str2):\n",
    "    print('Both strings are anagrams')\n",
    "else:\n",
    "    print('Both strings are not anagrams')"
   ]
  },
  {
   "cell_type": "markdown",
   "metadata": {},
   "source": [
    "**Question 4:\n",
    "Write a Python's user defined function that removes all the additional characters from the string\n",
    "and converts it finally to lower case using built-in lower(). eg: If the string is \"Dr. Darshan Ingle\n",
    "@AI-ML Trainer\", then the output be \"drdarshaningleaimltrainer\".**"
   ]
  },
  {
   "cell_type": "code",
   "execution_count": 80,
   "metadata": {},
   "outputs": [
    {
     "name": "stdout",
     "output_type": "stream",
     "text": [
      "3\n",
      "Enter a string: Dr. Darshan Ingle @AI-ML Trainer\n",
      "drdarshaningleaimltrainer\n",
      "Enter a string: Gattem #$134Bharath\n",
      "gattembharath\n",
      "Enter a string: Python$567&8MLai\n",
      "pythonmlai\n"
     ]
    }
   ],
   "source": [
    "def convertedString(str1):\n",
    "    newStr = ''\n",
    "    for i in str1:\n",
    "        if i.isalpha():\n",
    "            if i.isupper():\n",
    "                newStr = newStr + i.lower()\n",
    "            elif i.islower():\n",
    "                newStr = newStr + i\n",
    "    return newStr  \n",
    "\n",
    "n = int(input())\n",
    "for i in range(n):  \n",
    "    str1 = input('Enter a string: ')\n",
    "    print(convertedString(str1))"
   ]
  },
  {
   "cell_type": "code",
   "execution_count": null,
   "metadata": {},
   "outputs": [],
   "source": []
  }
 ],
 "metadata": {
  "kernelspec": {
   "display_name": "Python 3",
   "language": "python",
   "name": "python3"
  },
  "language_info": {
   "codemirror_mode": {
    "name": "ipython",
    "version": 3
   },
   "file_extension": ".py",
   "mimetype": "text/x-python",
   "name": "python",
   "nbconvert_exporter": "python",
   "pygments_lexer": "ipython3",
   "version": "3.7.6"
  }
 },
 "nbformat": 4,
 "nbformat_minor": 4
}
