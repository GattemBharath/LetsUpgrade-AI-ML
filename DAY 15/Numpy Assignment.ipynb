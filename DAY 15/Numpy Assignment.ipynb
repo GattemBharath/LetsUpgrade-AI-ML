{
 "cells": [
  {
   "cell_type": "code",
   "execution_count": 2,
   "metadata": {},
   "outputs": [],
   "source": [
    "import numpy as np"
   ]
  },
  {
   "cell_type": "markdown",
   "metadata": {},
   "source": [
    "# 1. Create a 3x3x3 array with random values "
   ]
  },
  {
   "cell_type": "code",
   "execution_count": 6,
   "metadata": {},
   "outputs": [
    {
     "data": {
      "text/plain": [
       "array([[[0.87372772, 0.23547073, 0.25847972],\n",
       "        [0.73256719, 0.25067467, 0.89116209],\n",
       "        [0.24830979, 0.32485709, 0.15610859]],\n",
       "\n",
       "       [[0.99838082, 0.05086673, 0.65302987],\n",
       "        [0.63205625, 0.0429773 , 0.09766418],\n",
       "        [0.97035339, 0.4061185 , 0.5998893 ]],\n",
       "\n",
       "       [[0.21792814, 0.92174943, 0.14147805],\n",
       "        [0.54105311, 0.46009059, 0.53433525],\n",
       "        [0.98173566, 0.92101267, 0.57490706]]])"
      ]
     },
     "execution_count": 6,
     "metadata": {},
     "output_type": "execute_result"
    }
   ],
   "source": [
    "a = np.random.random((3,3,3))\n",
    "a"
   ]
  },
  {
   "cell_type": "markdown",
   "metadata": {},
   "source": [
    "# 2.Create a 5x5 matrix with values 1,2,3,4 just below the diagonal"
   ]
  },
  {
   "cell_type": "code",
   "execution_count": 22,
   "metadata": {},
   "outputs": [
    {
     "name": "stdout",
     "output_type": "stream",
     "text": [
      "[[1 0 0 0 0]\n",
      " [1 1 0 0 0]\n",
      " [0 2 1 0 0]\n",
      " [0 0 3 1 0]\n",
      " [0 0 0 4 1]]\n"
     ]
    }
   ],
   "source": [
    "b = np.eye(5,5)\n",
    "for i in range(1,5):\n",
    "    b[i,i-1] = i\n",
    "print(b.astype(int))    "
   ]
  },
  {
   "cell_type": "markdown",
   "metadata": {},
   "source": [
    "# 3.Create a 8x8 matrix and fill it with a checkerboard pattern"
   ]
  },
  {
   "cell_type": "code",
   "execution_count": 50,
   "metadata": {},
   "outputs": [
    {
     "name": "stdout",
     "output_type": "stream",
     "text": [
      "Checkerboard Pattern :\n",
      "[[0 1 0 1 0 1 0 1]\n",
      " [1 0 1 0 1 0 1 0]\n",
      " [0 1 0 1 0 1 0 1]\n",
      " [1 0 1 0 1 0 1 0]\n",
      " [0 1 0 1 0 1 0 1]\n",
      " [1 0 1 0 1 0 1 0]\n",
      " [0 1 0 1 0 1 0 1]\n",
      " [1 0 1 0 1 0 1 0]]\n"
     ]
    }
   ],
   "source": [
    "cb = np.zeros((8,8))\n",
    "for i in range(8):\n",
    "    for j in range(8):\n",
    "        if (i+j)%2 == 0:\n",
    "            cb[i,j] = 0\n",
    "        else:\n",
    "            cb[i,j] = 1\n",
    "print('Checkerboard Pattern :')\n",
    "print(cb.astype(int))"
   ]
  },
  {
   "cell_type": "markdown",
   "metadata": {},
   "source": [
    "# 4. Normalize a 5x5 random matrix"
   ]
  },
  {
   "cell_type": "code",
   "execution_count": 37,
   "metadata": {},
   "outputs": [
    {
     "name": "stdout",
     "output_type": "stream",
     "text": [
      "Before Normalization : \n",
      "\n",
      " [[0.15138273 0.29887548 0.86322852 0.2534954  0.04555221]\n",
      " [0.50383026 0.64823561 0.69461502 0.02018284 0.21493455]\n",
      " [0.83528805 0.70986026 0.32337991 0.93462784 0.85223534]\n",
      " [0.50229449 0.28911306 0.56352673 0.21701774 0.38372911]\n",
      " [0.20477988 0.42036501 0.44296695 0.93257282 0.25661412]]\n",
      "\n",
      "After Normalization : \n",
      "\n",
      " [[0.14347488 0.30476697 0.92192059 0.25514116 0.02774291]\n",
      " [0.52889722 0.68681307 0.73753171 0.         0.21297258]\n",
      " [0.89136603 0.75420329 0.33156403 1.         0.9098989 ]\n",
      " [0.52721776 0.29409119 0.59417886 0.21525067 0.39755947]\n",
      " [0.20186784 0.437623   0.46233957 0.99775272 0.25855166]]\n"
     ]
    }
   ],
   "source": [
    "n = np.random.random((5,5))\n",
    "print('Before Normalization :','\\n\\n',n)\n",
    "n = (n  - n.min())/(n.max() - n.min())\n",
    "print('\\nAfter Normalization :','\\n\\n',n)"
   ]
  },
  {
   "cell_type": "markdown",
   "metadata": {},
   "source": [
    "# 5.  How to find common values between two arrays?"
   ]
  },
  {
   "cell_type": "code",
   "execution_count": 48,
   "metadata": {},
   "outputs": [
    {
     "name": "stdout",
     "output_type": "stream",
     "text": [
      "The common values between two arrays are: \n",
      "3,67,90\n"
     ]
    }
   ],
   "source": [
    "a = np.array([1,2,6,3,87,343,67,90])\n",
    "b = np.array([45,67,89,90,3,234,56,456,789,987])\n",
    "print('The common values between two arrays are: ')\n",
    "print(','.join(map(str,np.intersect1d(a,b))))"
   ]
  },
  {
   "cell_type": "markdown",
   "metadata": {},
   "source": [
    "# 6.How to get the dates of yesterday, today and tomorrow?"
   ]
  },
  {
   "cell_type": "code",
   "execution_count": 67,
   "metadata": {},
   "outputs": [
    {
     "name": "stdout",
     "output_type": "stream",
     "text": [
      "Yesterday: 2020-07-24\n",
      "Today    : 2020-07-25\n",
      "Tomorrow : 2020-07-26\n"
     ]
    }
   ],
   "source": [
    "today = np.datetime64('today','D')  \n",
    "yesterday = np.datetime64('today','D')  - np.timedelta64(1,'D')\n",
    "tomorrow = np.datetime64('today','D') + np.timedelta64(1,'D')\n",
    "\n",
    "print('Yesterday:',yesterday)\n",
    "print('Today    :',today)\n",
    "print('Tomorrow :', tomorrow)"
   ]
  },
  {
   "cell_type": "markdown",
   "metadata": {},
   "source": [
    "# 7. Consider two random array A and B, check if they are equal"
   ]
  },
  {
   "cell_type": "code",
   "execution_count": 90,
   "metadata": {},
   "outputs": [
    {
     "name": "stdout",
     "output_type": "stream",
     "text": [
      "[[0.86929498 0.73907196 0.29189038 0.98926785 0.35363963]\n",
      " [0.69649711 0.47359391 0.3320075  0.16475331 0.23142789]\n",
      " [0.27055947 0.05924162 0.2583415  0.75799384 0.2250571 ]\n",
      " [0.82215058 0.44473371 0.75167614 0.91579064 0.84694771]\n",
      " [0.04389085 0.45579866 0.43111675 0.38522567 0.39212368]] \n",
      "\n",
      " [[0.69746449 0.84263556 0.13454368 0.18780181 0.73872045]\n",
      " [0.54944139 0.37244495 0.63300533 0.79202863 0.95361337]\n",
      " [0.44114244 0.37328995 0.24102611 0.65428696 0.15082081]\n",
      " [0.90135378 0.61924522 0.76710871 0.67900504 0.06206064]\n",
      " [0.23752095 0.87373746 0.8194951  0.75506375 0.98001251]] \n",
      "\n",
      "Two arrays are not equal\n"
     ]
    }
   ],
   "source": [
    "a = np.random.random((5,5))\n",
    "b = np.random.random((5,5))\n",
    "print(a,'\\n\\n',b,'\\n')\n",
    "if np.allclose(a,b):\n",
    "    print('Two arrays are equal')\n",
    "else:\n",
    "    print('Two arrays are not equal')"
   ]
  },
  {
   "cell_type": "markdown",
   "metadata": {},
   "source": [
    "# 8.Create random vector of size 10 and replace the maximum value by 0 "
   ]
  },
  {
   "cell_type": "code",
   "execution_count": 107,
   "metadata": {},
   "outputs": [
    {
     "name": "stdout",
     "output_type": "stream",
     "text": [
      "0.9142074514663602 \n",
      "\n",
      "0\n"
     ]
    }
   ],
   "source": [
    "x = np.random.random(10)\n",
    "x.sort()\n",
    "print(x[-1],'\\n')\n",
    "x[-1] = 0\n",
    "print(int(x[-1]))"
   ]
  },
  {
   "cell_type": "markdown",
   "metadata": {},
   "source": [
    "# 9. How to print all the values of an array?"
   ]
  },
  {
   "cell_type": "code",
   "execution_count": 110,
   "metadata": {},
   "outputs": [
    {
     "name": "stdout",
     "output_type": "stream",
     "text": [
      "[ 1  2  3  4  5  6  7  9 10]\n"
     ]
    }
   ],
   "source": [
    "a = np.array([1,2,3,4,5,6,7,9,10])\n",
    "print(a)"
   ]
  },
  {
   "cell_type": "markdown",
   "metadata": {},
   "source": [
    "# 10.Subtract the mean of each row of a matrix"
   ]
  },
  {
   "cell_type": "code",
   "execution_count": 123,
   "metadata": {},
   "outputs": [
    {
     "name": "stdout",
     "output_type": "stream",
     "text": [
      "[[0.38244657 0.28403914 0.14819662 0.77733354 0.56338476]\n",
      " [0.76785314 0.38952481 0.61858015 0.99907479 0.60938616]\n",
      " [0.63357576 0.12225656 0.25318273 0.2407247  0.51618062]\n",
      " [0.40551736 0.15470533 0.48486558 0.5252095  0.52300822]\n",
      " [0.29017322 0.47183137 0.30351499 0.73794307 0.97245449]] \n",
      "\n",
      "After Subtracting the mean of each row of a matrix:\n",
      "\n",
      "[[-0.04863356 -0.39284466 -0.20498746  0.35867235  0.00820133]\n",
      " [ 0.33677301 -0.287359    0.26539607  0.5804136   0.05420273]\n",
      " [ 0.20249563 -0.55462725 -0.10000134 -0.1779365  -0.0390028 ]\n",
      " [-0.02556277 -0.52217847  0.1316815   0.1065483  -0.03217521]\n",
      " [-0.14090691 -0.20505244 -0.04966909  0.31928188  0.41727106]]\n"
     ]
    }
   ],
   "source": [
    "a = np.random.random((5,5))\n",
    "print(a,'\\n')\n",
    "b = a - a.mean(axis = 1)\n",
    "print('After Subtracting the mean of each row of a matrix:\\n')\n",
    "print(b)"
   ]
  },
  {
   "cell_type": "markdown",
   "metadata": {},
   "source": [
    "# 11.Consider a given vector, how to add 1 to each element indexed by a second vector (be careful with repeated indices)? "
   ]
  },
  {
   "cell_type": "code",
   "execution_count": 132,
   "metadata": {},
   "outputs": [
    {
     "name": "stdout",
     "output_type": "stream",
     "text": [
      "[  1   3   5   7   2   4  17   9 347   5  12  56 234]\n",
      "After adding 1 to each element indexed by a second vector: \n",
      "[  2   3   5   7   2   5  18   9 347   6  12  56 235]\n"
     ]
    }
   ],
   "source": [
    "a= np.array([1,3,5,7,2,4,17,9,347,5,12,56,234])\n",
    "b = np.array([0,5,6,9,0,5,12])\n",
    "b = list(set(b))\n",
    "print(a)  \n",
    "for i in range(len(a)):\n",
    "    if i in b:\n",
    "        a[i]+=1\n",
    "print('After adding 1 to each element indexed by a second vector: ')\n",
    "print(a)        "
   ]
  },
  {
   "cell_type": "markdown",
   "metadata": {},
   "source": [
    "# 12.How to get the diagonal of a dot product?"
   ]
  },
  {
   "cell_type": "code",
   "execution_count": 161,
   "metadata": {},
   "outputs": [
    {
     "name": "stdout",
     "output_type": "stream",
     "text": [
      "[[ 1  3  5]\n",
      " [12 14 13]\n",
      " [ 2  1  6]] \n",
      "\n",
      "[[ 6  4  2]\n",
      " [15 13 16]\n",
      " [21 11 36]] \n",
      "\n",
      "[[156  98 230]\n",
      " [555 373 716]\n",
      " [153  87 236]] \n",
      "\n",
      "[156 373 236]\n"
     ]
    }
   ],
   "source": [
    "a = np.array([[1,3,5],[12,14,13],[2,1,6]])\n",
    "b = np.array([[6,4,2],[15,13,16],[21,11,36]])\n",
    "print(a,'\\n')\n",
    "print(b,'\\n')\n",
    "diagonal = a.dot(b)\n",
    "print(diagonal,'\\n')\n",
    "print(np.diag(diagonal))"
   ]
  },
  {
   "cell_type": "markdown",
   "metadata": {},
   "source": [
    "# 13.How to find the most frequent value in an array?"
   ]
  },
  {
   "cell_type": "code",
   "execution_count": 168,
   "metadata": {},
   "outputs": [
    {
     "name": "stdout",
     "output_type": "stream",
     "text": [
      "The most frequent value in the array is: 7\n"
     ]
    }
   ],
   "source": [
    "from scipy.stats import *\n",
    "a= np.array([1,3,5,7,2,4,7,9,7,5,12,56,234])\n",
    "print('The most frequent value in the array is:',stats.mode(a)[0][0])"
   ]
  },
  {
   "cell_type": "markdown",
   "metadata": {},
   "source": [
    "# 14.How to get the n largest values of an array"
   ]
  },
  {
   "cell_type": "code",
   "execution_count": 174,
   "metadata": {},
   "outputs": [
    {
     "name": "stdout",
     "output_type": "stream",
     "text": [
      "[ 1  2  3  4  5  5  7  7  7  9 12 24 56]\n",
      "The n largest value is: 12\n"
     ]
    }
   ],
   "source": [
    "n = 3\n",
    "a = np.array([1,3,5,7,2,4,7,9,7,5,12,56,24])\n",
    "a.sort()\n",
    "print(a)\n",
    "print('The n largest value is:',a[-n])"
   ]
  },
  {
   "cell_type": "markdown",
   "metadata": {},
   "source": [
    "# 15.How to create a record array from a regular array?"
   ]
  },
  {
   "cell_type": "code",
   "execution_count": 183,
   "metadata": {},
   "outputs": [
    {
     "name": "stdout",
     "output_type": "stream",
     "text": [
      "Record Array is:\n",
      "(1, 'Red', 12.2)\n",
      "(2, 'Green', 15.)\n",
      "(3, 'White', 20.)\n",
      "(4, 'Orange', 40.)\n"
     ]
    }
   ],
   "source": [
    "a1=np.array([1,2,3,4])\n",
    "a2=np.array(['Red','Green','White','Orange'])\n",
    "a3=np.array([12.20,15,20,40])\n",
    "\n",
    "record_array = np.core.records.fromarrays([a1,a2,a3],names = 'a,b,c')\n",
    "print('Record Array is:')\n",
    "print(record_array[0])\n",
    "print(record_array[1])\n",
    "print(record_array[2])\n",
    "print(record_array[3])"
   ]
  },
  {
   "cell_type": "code",
   "execution_count": null,
   "metadata": {},
   "outputs": [],
   "source": []
  }
 ],
 "metadata": {
  "kernelspec": {
   "display_name": "Python 3",
   "language": "python",
   "name": "python3"
  },
  "language_info": {
   "codemirror_mode": {
    "name": "ipython",
    "version": 3
   },
   "file_extension": ".py",
   "mimetype": "text/x-python",
   "name": "python",
   "nbconvert_exporter": "python",
   "pygments_lexer": "ipython3",
   "version": "3.7.6"
  }
 },
 "nbformat": 4,
 "nbformat_minor": 2
}
