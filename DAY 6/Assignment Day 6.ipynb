{
 "cells": [
  {
   "cell_type": "markdown",
   "metadata": {},
   "source": [
    "**Question 1:\n",
    "Assuming that we have some email addresses in the \"username@companyname.com\" format, please write program to print the company name of a given email address. Both user names and company names are composed of letters only.**\n",
    "\n",
    "Input Format: The first line of the input contains an email address. \n",
    "\n",
    "Output Format: Print the company name in single line.\n",
    "\n",
    "Example; Input: john@google.com Output: google\n"
   ]
  },
  {
   "cell_type": "code",
   "execution_count": 8,
   "metadata": {},
   "outputs": [
    {
     "name": "stdout",
     "output_type": "stream",
     "text": [
      "Enter your Email address: bharath@facebook.com\n",
      "Your Company name is:\n",
      "facebook\n"
     ]
    }
   ],
   "source": [
    "email_addr = input('Enter your Email address: ')\n",
    "print('Your Company name is:')\n",
    "s1 = email_addr.split('@')\n",
    "print(s1[1].split('.')[0])"
   ]
  },
  {
   "cell_type": "markdown",
   "metadata": {},
   "source": [
    "**Question 2:\n",
    "Write a program that accepts a comma-separated sequence of words as input and prints the words in a comma separated sequence after sorting them alphabetically.**\n",
    "\n",
    "Input Format: The first line of input contains words separated by the comma.\n",
    "\n",
    "Output Format: Print the sorted words separated by the comma. \n",
    "\n",
    "Example: Input: without,hello,bag,world\n",
    "\n",
    "Output: bag,hello,without,world"
   ]
  },
  {
   "cell_type": "code",
   "execution_count": 63,
   "metadata": {},
   "outputs": [
    {
     "name": "stdout",
     "output_type": "stream",
     "text": [
      "Enter comma seperated words: without,hello,bag,world\n",
      "----After Sorting----\n",
      "bag,hello,without,world\n"
     ]
    }
   ],
   "source": [
    "words = input('Enter comma seperated words: ').split(',')\n",
    "print('----After Sorting----')\n",
    "print(','.join(sorted(words)))"
   ]
  },
  {
   "cell_type": "markdown",
   "metadata": {},
   "source": [
    "**Question 3:\n",
    "Create your own Jupyter Notebook for Sets. Reference link: https://www.w3schools.com/python/python_sets.asp**"
   ]
  },
  {
   "cell_type": "markdown",
   "metadata": {},
   "source": [
    "### Python Sets"
   ]
  },
  {
   "cell_type": "markdown",
   "metadata": {},
   "source": [
    "__Set:__<br>\n",
    "A set is a collection which is unordered and unindexed. In Python sets are written with curly brackets."
   ]
  },
  {
   "cell_type": "markdown",
   "metadata": {},
   "source": [
    "#### Create a Set:"
   ]
  },
  {
   "cell_type": "code",
   "execution_count": 17,
   "metadata": {},
   "outputs": [
    {
     "name": "stdout",
     "output_type": "stream",
     "text": [
      "{'apple', 'banana', 'mango', 'cherry'}\n"
     ]
    }
   ],
   "source": [
    "set1 = {\"apple\", \"banana\", \"cherry\",\"mango\"}\n",
    "print(set1)"
   ]
  },
  {
   "cell_type": "markdown",
   "metadata": {},
   "source": [
    "#### Access Items"
   ]
  },
  {
   "cell_type": "code",
   "execution_count": 18,
   "metadata": {},
   "outputs": [
    {
     "name": "stdout",
     "output_type": "stream",
     "text": [
      "apple\n",
      "banana\n",
      "mango\n",
      "cherry\n"
     ]
    }
   ],
   "source": [
    "for x in set1:\n",
    "    print(x)"
   ]
  },
  {
   "cell_type": "markdown",
   "metadata": {},
   "source": [
    "#### Add Items"
   ]
  },
  {
   "cell_type": "code",
   "execution_count": 19,
   "metadata": {},
   "outputs": [
    {
     "name": "stdout",
     "output_type": "stream",
     "text": [
      "{'apple', 'banana', 'orange', 'cherry'}\n"
     ]
    }
   ],
   "source": [
    "set1 = {\"apple\", \"banana\", \"cherry\"}\n",
    "set1.add(\"orange\")\n",
    "print(set1)"
   ]
  },
  {
   "cell_type": "code",
   "execution_count": 22,
   "metadata": {},
   "outputs": [
    {
     "data": {
      "text/plain": [
       "{'apple', 'banana', 'cherry', 'grapes', 'mango', 'orange'}"
      ]
     },
     "execution_count": 22,
     "metadata": {},
     "output_type": "execute_result"
    }
   ],
   "source": [
    "set1.update([\"orange\", \"mango\", \"grapes\"])\n",
    "set1"
   ]
  },
  {
   "cell_type": "code",
   "execution_count": 23,
   "metadata": {},
   "outputs": [
    {
     "name": "stdout",
     "output_type": "stream",
     "text": [
      "6\n"
     ]
    }
   ],
   "source": [
    "print(len(set1))"
   ]
  },
  {
   "cell_type": "markdown",
   "metadata": {},
   "source": [
    "#### Remove Item\n",
    "To remove an item in a set, use the remove(), or the discard() method."
   ]
  },
  {
   "cell_type": "code",
   "execution_count": 24,
   "metadata": {},
   "outputs": [
    {
     "name": "stdout",
     "output_type": "stream",
     "text": [
      "{'apple', 'cherry'}\n"
     ]
    }
   ],
   "source": [
    "thisset = {\"apple\", \"banana\", \"cherry\"}\n",
    "thisset.remove(\"banana\")\n",
    "print(thisset)"
   ]
  },
  {
   "cell_type": "code",
   "execution_count": 25,
   "metadata": {},
   "outputs": [
    {
     "name": "stdout",
     "output_type": "stream",
     "text": [
      "{'apple', 'cherry'}\n"
     ]
    }
   ],
   "source": [
    "thisset = {\"apple\", \"banana\", \"cherry\"}\n",
    "thisset.discard(\"banana\")\n",
    "print(thisset)"
   ]
  },
  {
   "cell_type": "code",
   "execution_count": 29,
   "metadata": {},
   "outputs": [
    {
     "name": "stdout",
     "output_type": "stream",
     "text": [
      "{'apple', 'banana', 'cherry'}\n"
     ]
    }
   ],
   "source": [
    "#### COPY A SET\n",
    "\n",
    "fruits = {\"apple\", \"banana\", \"cherry\"}\n",
    "x = fruits.copy()\n",
    "print(x)"
   ]
  },
  {
   "cell_type": "markdown",
   "metadata": {},
   "source": [
    "#### isdisjoint"
   ]
  },
  {
   "cell_type": "code",
   "execution_count": 31,
   "metadata": {},
   "outputs": [
    {
     "name": "stdout",
     "output_type": "stream",
     "text": [
      "True\n"
     ]
    }
   ],
   "source": [
    "x = {\"apple\", \"banana\", \"cherry\"}\n",
    "y = {\"google\", \"microsoft\", \"facebook\"}\n",
    "z = x.isdisjoint(y)\n",
    "print(z)"
   ]
  },
  {
   "cell_type": "markdown",
   "metadata": {},
   "source": [
    "#### issubset() "
   ]
  },
  {
   "cell_type": "code",
   "execution_count": 32,
   "metadata": {},
   "outputs": [
    {
     "name": "stdout",
     "output_type": "stream",
     "text": [
      "True\n"
     ]
    }
   ],
   "source": [
    "x = {\"a\", \"b\", \"c\"}\n",
    "y = {\"f\", \"e\", \"d\", \"c\", \"b\", \"a\"}\n",
    "z = x.issubset(y)\n",
    "print(z)"
   ]
  },
  {
   "cell_type": "markdown",
   "metadata": {},
   "source": [
    "#### issuperset() "
   ]
  },
  {
   "cell_type": "code",
   "execution_count": 33,
   "metadata": {},
   "outputs": [
    {
     "name": "stdout",
     "output_type": "stream",
     "text": [
      "True\n"
     ]
    }
   ],
   "source": [
    "x = {\"f\", \"e\", \"d\", \"c\", \"b\", \"a\"}\n",
    "y = {\"a\", \"b\", \"c\"}\n",
    "z = x.issuperset(y)\n",
    "print(z)"
   ]
  },
  {
   "cell_type": "markdown",
   "metadata": {},
   "source": [
    "#### symmetric_difference()"
   ]
  },
  {
   "cell_type": "code",
   "execution_count": 34,
   "metadata": {},
   "outputs": [
    {
     "name": "stdout",
     "output_type": "stream",
     "text": [
      "{'cherry', 'banana', 'google', 'microsoft'}\n"
     ]
    }
   ],
   "source": [
    "x = {\"apple\", \"banana\", \"cherry\"}\n",
    "y = {\"google\", \"microsoft\", \"apple\"}\n",
    "z = x.symmetric_difference(y)\n",
    "print(z)"
   ]
  },
  {
   "cell_type": "markdown",
   "metadata": {},
   "source": [
    "#### symmetric_difference_update()"
   ]
  },
  {
   "cell_type": "code",
   "execution_count": 35,
   "metadata": {},
   "outputs": [
    {
     "name": "stdout",
     "output_type": "stream",
     "text": [
      "{'cherry', 'google', 'microsoft', 'banana'}\n"
     ]
    }
   ],
   "source": [
    "x = {\"apple\", \"banana\", \"cherry\"}\n",
    "y = {\"google\", \"microsoft\", \"apple\"}\n",
    "x.symmetric_difference_update(y) \n",
    "print(x)"
   ]
  },
  {
   "cell_type": "markdown",
   "metadata": {},
   "source": [
    "**Question 4:\n",
    "Given a list of n-1 numbers ranging from 1 to n, your task is to find the missing number. There are no duplicates.**\n",
    "\n",
    "Input Format: The first line contains n-1 numbers with each number separated by a space.\n",
    "\n",
    "Output Format: Print the missing number \n",
    "\n",
    "Example: Input:1 2 4 6 3 7 8 Output:5"
   ]
  },
  {
   "cell_type": "code",
   "execution_count": 46,
   "metadata": {},
   "outputs": [
    {
     "name": "stdout",
     "output_type": "stream",
     "text": [
      "Enter a number: 7\n",
      "1 2 4 6 3 7 8\n",
      "The missing number is: 5\n"
     ]
    }
   ],
   "source": [
    "n = int(input('Enter a number: '))\n",
    "list1 = list(map(int,input().split()))\n",
    "sum1 = sum(list1)\n",
    "total = (n+1)*(n+2)/2\n",
    "print('The missing number is:',int(total-sum1))"
   ]
  },
  {
   "cell_type": "markdown",
   "metadata": {},
   "source": [
    "**Question 5:\n",
    "With a given list L, write a program to print this list L after removing all duplicate values with original order reserved.**\n",
    "\n",
    "Example: If the input list is 12 24 35 24 88 120 155 88 120 155 \n",
    "\n",
    "Then the output should be 12 24 35 88 120 155"
   ]
  },
  {
   "cell_type": "code",
   "execution_count": 60,
   "metadata": {},
   "outputs": [
    {
     "name": "stdout",
     "output_type": "stream",
     "text": [
      "12 24 35 24 88 120 155 88 120 155\n",
      "12 24 35 88 120 155\n"
     ]
    }
   ],
   "source": [
    "l = list(map(int,input().split()))\n",
    "l1 = []\n",
    "for i in range(len(l)):\n",
    "    if l[i] not in l1:\n",
    "        l1.append(l[i])\n",
    "print(' '.join(map(str,l1)))"
   ]
  },
  {
   "cell_type": "code",
   "execution_count": null,
   "metadata": {},
   "outputs": [],
   "source": []
  }
 ],
 "metadata": {
  "kernelspec": {
   "display_name": "Python 3",
   "language": "python",
   "name": "python3"
  },
  "language_info": {
   "codemirror_mode": {
    "name": "ipython",
    "version": 3
   },
   "file_extension": ".py",
   "mimetype": "text/x-python",
   "name": "python",
   "nbconvert_exporter": "python",
   "pygments_lexer": "ipython3",
   "version": "3.7.6"
  }
 },
 "nbformat": 4,
 "nbformat_minor": 4
}
