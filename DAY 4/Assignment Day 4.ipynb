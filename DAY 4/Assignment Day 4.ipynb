{
 "cells": [
  {
   "cell_type": "markdown",
   "metadata": {},
   "source": [
    "**Question 1 :\n",
    "Research on whether addition, subtraction, multiplication, division, floor division and modulo\n",
    "operations be performed on complex numbers. Based on your study, implement a Python\n",
    "program to demonstrate these operations.**"
   ]
  },
  {
   "cell_type": "code",
   "execution_count": 12,
   "metadata": {},
   "outputs": [
    {
     "name": "stdout",
     "output_type": "stream",
     "text": [
      "Addition of Complex numbers is:  (8+8j)\n",
      "Subtraction of Complex numbers is:  (-2-4j)\n",
      "Multiplication of Complex numbers is:  (3+28j)\n",
      "Division of Complex numbers is:  (0.44262295081967207-0.13114754098360654j)\n"
     ]
    }
   ],
   "source": [
    "c1 = 3+2j\n",
    "c2 = 5+6j\n",
    "print('Addition of Complex numbers is: ',(c1+c2))\n",
    "print('Subtraction of Complex numbers is: ',(c1-c2))\n",
    "print('Multiplication of Complex numbers is: ',(c1*c2))\n",
    "print('Division of Complex numbers is: ',(c1/c2))"
   ]
  },
  {
   "cell_type": "markdown",
   "metadata": {},
   "source": [
    "**Question 2 :\n",
    "Research on range() functions and its parameters. Create a markdown cell and write in your own\n",
    "words (no copy-paste from google please) what you understand about it. Implement a small\n",
    "program of your choice on the same.**"
   ]
  },
  {
   "cell_type": "markdown",
   "metadata": {},
   "source": [
    "range() function"
   ]
  },
  {
   "cell_type": "markdown",
   "metadata": {},
   "source": [
    "Range is used to generate a sequence of numbers based on step size.\n",
    "range consists of three parameters \n",
    "1. start\n",
    "2. end\n",
    "3. step size\n",
    "\n",
    "Start indicates from which number or range will start.\n",
    "\n",
    "End indicates integer before which the sequence of integers is to be returned.\n",
    "\n",
    "Step size denotes increment between each integer in the sequence.By default it is 1."
   ]
  },
  {
   "cell_type": "code",
   "execution_count": 17,
   "metadata": {},
   "outputs": [
    {
     "name": "stdout",
     "output_type": "stream",
     "text": [
      "Sum of first  100  natural numbers is  5050\n"
     ]
    }
   ],
   "source": [
    "sum = 0\n",
    "for i in range(1,101,1):\n",
    "    sum = sum + i\n",
    "print('Sum of first ',100,' natural numbers is ',sum)    "
   ]
  },
  {
   "cell_type": "markdown",
   "metadata": {},
   "source": [
    "**Question 3:\n",
    " Consider two numbers. Perform their subtraction and if the result of subtraction is greater than\n",
    "25, print their multiplication result else print their division result.**"
   ]
  },
  {
   "cell_type": "code",
   "execution_count": 18,
   "metadata": {},
   "outputs": [
    {
     "name": "stdout",
     "output_type": "stream",
     "text": [
      "23\n",
      "45\n",
      "0.5111111111111111\n"
     ]
    }
   ],
   "source": [
    "a = int(input())\n",
    "b = int(input())\n",
    "c = a-b\n",
    "if c>25:\n",
    "    print(a*b)\n",
    "else:\n",
    "    print(a/b)"
   ]
  },
  {
   "cell_type": "markdown",
   "metadata": {},
   "source": [
    "**Question 4:\n",
    "Consider a list of 10 elements of integer values. If the number in the list is divisible by 2, print the\n",
    "result as \"square of that number minus 2\".**"
   ]
  },
  {
   "cell_type": "code",
   "execution_count": 29,
   "metadata": {},
   "outputs": [
    {
     "name": "stdout",
     "output_type": "stream",
     "text": [
      "square of  4 minus 2  is  14\n",
      "square of  562 minus 2  is  315842\n",
      "square of  34 minus 2  is  1154\n",
      "square of  6 minus 2  is  34\n",
      "square of  74 minus 2  is  5474\n"
     ]
    }
   ],
   "source": [
    "list1 = [4,435,562,23,65,345,34,6,93,74]\n",
    "for i in range(len(list1)):\n",
    "    if list1[i]%2==0:\n",
    "        print('square of ',list1[i],'minus',2,' is ',((list1[i]**2)-2))"
   ]
  },
  {
   "cell_type": "markdown",
   "metadata": {},
   "source": [
    "**Question 5:\n",
    "Consider a list of 10 elements. Print all the elements in the list which are greater than 7 when that\n",
    "number is divided 2.**"
   ]
  },
  {
   "cell_type": "code",
   "execution_count": 34,
   "metadata": {},
   "outputs": [
    {
     "name": "stdout",
     "output_type": "stream",
     "text": [
      "Division of  20 with 2 greater than 7\n",
      "Division of  54 with 2 greater than 7\n",
      "Division of  90 with 2 greater than 7\n",
      "Division of  45 with 2 greater than 7\n"
     ]
    }
   ],
   "source": [
    "l = [4,6,1,7,20,54,90,10,45,5]\n",
    "for i in l:\n",
    "    if (i/2)>7:\n",
    "        print('Division of ',i,'with 2 greater than 7')"
   ]
  },
  {
   "cell_type": "code",
   "execution_count": null,
   "metadata": {},
   "outputs": [],
   "source": []
  }
 ],
 "metadata": {
  "kernelspec": {
   "display_name": "Python 3",
   "language": "python",
   "name": "python3"
  },
  "language_info": {
   "codemirror_mode": {
    "name": "ipython",
    "version": 3
   },
   "file_extension": ".py",
   "mimetype": "text/x-python",
   "name": "python",
   "nbconvert_exporter": "python",
   "pygments_lexer": "ipython3",
   "version": "3.7.6"
  }
 },
 "nbformat": 4,
 "nbformat_minor": 4
}
